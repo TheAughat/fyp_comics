{
  "cells": [
    {
      "cell_type": "code",
      "execution_count": null,
      "metadata": {
        "id": "P04ZPz25MSZq"
      },
      "outputs": [],
      "source": [
        "# GPU Connection info\n",
        "gpu_info = !nvidia-smi\n",
        "gpu_info = '\\n'.join(gpu_info)\n",
        "\n",
        "if gpu_info.find('failed') >= 0:\n",
        "    print('Not connected to a GPU')\n",
        "else:\n",
        "    print(gpu_info)"
      ]
    },
    {
      "cell_type": "code",
      "execution_count": null,
      "metadata": {
        "id": "K1TAlQ2aMTEK"
      },
      "outputs": [],
      "source": [
        "# Print whether using a high VRAM env from google\n",
        "from psutil import virtual_memory\n",
        "ram_gb = virtual_memory().total / 1e9\n",
        "print('Your runtime has {:.1f} gigabytes of available RAM\\n'.format(ram_gb))\n",
        "\n",
        "if ram_gb < 20:\n",
        "    print('Not using a high-RAM runtime')\n",
        "else:\n",
        "    print('You are using a high-RAM runtime!')"
      ]
    },
    {
      "cell_type": "code",
      "execution_count": null,
      "metadata": {
        "id": "jQt87_LRNKq6"
      },
      "outputs": [],
      "source": [
        "# connect to drive and make necessary imports\n",
        "from google.colab import drive\n",
        "from IPython.display import clear_output\n",
        "import os\n",
        "from IPython.utils import capture\n",
        "from IPython.display import clear_output\n",
        "from subprocess import getoutput\n",
        "import sys\n",
        "import fileinput\n",
        "import os\n",
        "import time\n",
        "import base64\n",
        "import gdown\n",
        "from gdown.download import get_url_from_gdrive_confirmation\n",
        "import requests\n",
        "from urllib.request import urlopen, Request\n",
        "from urllib.parse import urlparse, parse_qs, unquote\n",
        "from tqdm import tqdm\n",
        "import six\n",
        "\n",
        "print(\"Connecting...\")\n",
        "drive.mount('/content/gdrive')"
      ]
    },
    {
      "cell_type": "code",
      "execution_count": null,
      "metadata": {
        "id": "aXd0erBI-j8b"
      },
      "outputs": [],
      "source": [
        "# install or update the A1111 repo\n",
        "\n",
        "if not os.path.exists('/content/gdrive'):\n",
        "    print('please connect to google drive before proceeding')\n",
        "\n",
        "\n",
        "with capture.capture_output() as cap:\n",
        "    fgitclone = \"git clone --depth 1\"\n",
        "    %mkdir -p /content/gdrive/MyDrive/sd\n",
        "    %cd /content/gdrive/MyDrive/sd\n",
        "    !git clone -q --branch master https://github.com/AUTOMATIC1111/stable-diffusion-webui\n",
        "    !mkdir -p /content/gdrive/MyDrive/sd/stable-diffusion-webui/cache/\n",
        "    os.environ['TRANSFORMERS_CACHE'] = f\"/content/gdrive/MyDrive/sd/stable-diffusion-webui/cache\"\n",
        "    os.environ['TORCH_HOME'] = f\"/content/gdrive/MyDrive/sd/stable-diffusion-webui/cache\"\n",
        "    !mkdir -p /content/gdrive/MyDrive/sd/stable-diffusion-webui/repositories\n",
        "    !git clone https://github.com/AUTOMATIC1111/stable-diffusion-webui-assets /content/gdrive/MyDrive/sd/stable-diffusion-webui/repositories/stable-diffusion-webui-assets\n",
        "\n",
        "with capture.capture_output() as cap:\n",
        "    %cd /content/gdrive/MyDrive/sd/stable-diffusion-webui/\n",
        "    !git reset --hard\n",
        "    !git checkout master\n",
        "    time.sleep(1)\n",
        "    !rm webui.sh\n",
        "    !git pull\n",
        "print('Completed A1111 Repo Download/Update!')"
      ]
    },
    {
      "cell_type": "code",
      "execution_count": null,
      "metadata": {
        "id": "hZa75viTAVTa"
      },
      "outputs": [],
      "source": [
        "# Requirements\n",
        "\n",
        "print('Installing requirements...')\n",
        "\n",
        "with capture.capture_output() as cap:\n",
        "    %cd /content/\n",
        "    !wget -q -i https://raw.githubusercontent.com/TheLastBen/fast-stable-diffusion/main/Dependencies/A1111.txt\n",
        "    !dpkg -i *.deb\n",
        "    if not os.path.exists('/content/gdrive/MyDrive/sd/stablediffusion'):\n",
        "        !tar -C /content/gdrive/MyDrive --zstd -xf sd_mrep.tar.zst\n",
        "    !tar -C / --zstd -xf gcolabdeps.tar.zst\n",
        "    !rm *.deb | rm *.zst | rm *.txt\n",
        "    !pip install spandrel==0.1.6 --qq\n",
        "    if not os.path.exists('gdrive/MyDrive/sd/libtcmalloc/libtcmalloc_minimal.so.4'):\n",
        "        %env CXXFLAGS=-std=c++14\n",
        "        !wget -q https://github.com/gperftools/gperftools/releases/download/gperftools-2.5/gperftools-2.5.tar.gz && tar zxf gperftools-2.5.tar.gz && mv gperftools-2.5 gperftools\n",
        "        !wget -q https://github.com/TheLastBen/fast-stable-diffusion/raw/main/AUTOMATIC1111_files/Patch\n",
        "        %cd /content/gperftools\n",
        "        !patch -p1 < /content/Patch\n",
        "        !./configure --enable-minimal --enable-libunwind --enable-frame-pointers --enable-dynamic-sized-delete-support --enable-sized-delete --enable-emergency-malloc; make -j4\n",
        "        !mkdir -p /content/gdrive/MyDrive/sd/libtcmalloc && cp .libs/libtcmalloc*.so* /content/gdrive/MyDrive/sd/libtcmalloc\n",
        "        %env LD_PRELOAD=/content/gdrive/MyDrive/sd/libtcmalloc/libtcmalloc_minimal.so.4\n",
        "        %cd /content\n",
        "        !rm *.tar.gz Patch && rm -r /content/gperftools\n",
        "    else:\n",
        "        %env LD_PRELOAD=/content/gdrive/MyDrive/sd/libtcmalloc/libtcmalloc_minimal.so.4\n",
        "\n",
        "    os.environ['TF_CPP_MIN_LOG_LEVEL'] = '3'\n",
        "    os.environ['PYTHONWARNINGS'] = 'ignore'\n",
        "    !sed -i 's@text = _formatwarnmsg(msg)@text =\\\"\\\"@g' /usr/lib/python3.10/warnings.py\n",
        "\n",
        "print('Completed requirements installation!')"
      ]
    },
    {
      "cell_type": "code",
      "execution_count": null,
      "metadata": {
        "id": "FD3vl6G8StBv"
      },
      "outputs": [],
      "source": [
        "# ========================================================================================================================================================================================================================"
      ]
    },
    {
      "cell_type": "code",
      "execution_count": null,
      "metadata": {
        "id": "Sw-Ck6JOBavT"
      },
      "outputs": [],
      "source": [
        "# Model Download/Load\n",
        "# Download Stable Diffusion 1.5 as the base model if it does not exist\n",
        "\n",
        "def download_sd1_5():\n",
        "    version = '1.5'\n",
        "    model = '/content/gdrive/MyDrive/sd/stable-diffusion-webui/models/Stable-diffusion/v1-5-pruned-emaonly.safetensors'\n",
        "    link = 'https://huggingface.co/runwayml/stable-diffusion-v1-5/resolve/main/v1-5-pruned-emaonly.safetensors'\n",
        "\n",
        "    if not os.path.exists(model):\n",
        "        !gdown --fuzzy -O $model $link\n",
        "        if os.path.exists(model):\n",
        "            print('Completed!')\n",
        "        else:\n",
        "            print('ERROR! Something went wrong.')\n",
        "    else:\n",
        "        print('Model already exists!')\n",
        "\n",
        "    return model\n",
        "\n",
        "\n",
        "model = download_sd1_5()"
      ]
    },
    {
      "cell_type": "code",
      "execution_count": null,
      "metadata": {
        "id": "zQU5xUGfSs5P"
      },
      "outputs": [],
      "source": [
        "# ========================================================================================================================================================================================================================"
      ]
    },
    {
      "cell_type": "code",
      "execution_count": null,
      "metadata": {
        "id": "q6nY2OsCSsT_"
      },
      "outputs": [],
      "source": [
        "# Install ControlNet - Only needs to be done once\n",
        "\n",
        "from torch.hub import download_url_to_file\n",
        "from urllib.parse import urlparse\n",
        "import re\n",
        "from subprocess import run\n",
        "\n",
        "\n",
        "# potential choices = [\"None\", \"All (21GB)\", \"Canny\", \"Depth\", \"Lineart\", \"MLSD\", \"Normal\", \"OpenPose\", \"Scribble\", \"Seg\", \"ip2p\", \"Shuffle\", \"Inpaint\", \"Softedge\", \"Lineart_Anime\", \"Tile\", \"T2iadapter_Models\"]\n",
        "v1_Model = 'Scribble'\n",
        "\n",
        "\n",
        "# Download/update ControlNet extension and its models\n",
        "def download(url, model_dir):\n",
        "    filename = os.path.basename(urlparse(url).path)\n",
        "    pth = os.path.abspath(os.path.join(model_dir, filename))\n",
        "    if not os.path.exists(pth):\n",
        "        print('Downloading: ' + os.path.basename(url))\n",
        "        download_url_to_file(url, pth, hash_prefix = None, progress = True)\n",
        "    else:\n",
        "        print(f\"The model {filename} already exists\")\n",
        "\n",
        "\n",
        "with capture.capture_output() as cap:\n",
        "    %cd /content/gdrive/MyDrive/sd/stable-diffusion-webui/extensions\n",
        "    if not os.path.exists('sd-webui-controlnet'):\n",
        "        !git clone https://github.com/Mikubill/sd-webui-controlnet.git\n",
        "        %cd /content\n",
        "    else:\n",
        "        %cd sd-webui-controlnet\n",
        "        !git reset --hard\n",
        "        !git pull\n",
        "        %cd /content\n",
        "\n",
        "mdldir = '/content/gdrive/MyDrive/sd/stable-diffusion-webui/extensions/sd-webui-controlnet/models'\n",
        "for filename in os.listdir(mdldir):\n",
        "    if \"_sd14v1\" in filename:\n",
        "        renamed = re.sub(\"_sd14v1\", \"-fp16\", filename)\n",
        "        os.rename(os.path.join(mdldir, filename), os.path.join(mdldir, renamed))\n",
        "\n",
        "!wget -q -O CN_models.txt https://github.com/TheLastBen/fast-stable-diffusion/raw/main/AUTOMATIC1111_files/CN_models.txt\n",
        "\n",
        "\n",
        "with open(\"CN_models.txt\", 'r') as f:\n",
        "    mdllnk = f.read().splitlines()\n",
        "\n",
        "!rm CN_models.txt\n",
        "\n",
        "\n",
        "# ControlNet model Links\n",
        "Canny='https://huggingface.co/lllyasviel/ControlNet-v1-1/resolve/main/control_v11p_sd15_canny.pth'\n",
        "Depth='https://huggingface.co/lllyasviel/ControlNet-v1-1/resolve/main/control_v11f1p_sd15_depth.pth'\n",
        "Lineart='https://huggingface.co/lllyasviel/ControlNet-v1-1/resolve/main/control_v11p_sd15_lineart.pth'\n",
        "MLSD='https://huggingface.co/lllyasviel/ControlNet-v1-1/resolve/main/control_v11p_sd15_mlsd.pth'\n",
        "Normal='https://huggingface.co/lllyasviel/ControlNet-v1-1/resolve/main/control_v11p_sd15_normalbae.pth'\n",
        "OpenPose='https://huggingface.co/lllyasviel/ControlNet-v1-1/resolve/main/control_v11p_sd15_openpose.pth'\n",
        "Scribble='https://huggingface.co/lllyasviel/ControlNet-v1-1/resolve/main/control_v11p_sd15_scribble.pth'\n",
        "Seg='https://huggingface.co/lllyasviel/ControlNet-v1-1/resolve/main/control_v11p_sd15_seg.pth'\n",
        "ip2p='https://huggingface.co/lllyasviel/ControlNet-v1-1/resolve/main/control_v11e_sd15_ip2p.pth'\n",
        "Shuffle='https://huggingface.co/lllyasviel/ControlNet-v1-1/resolve/main/control_v11e_sd15_shuffle.pth'\n",
        "Inpaint='https://huggingface.co/lllyasviel/ControlNet-v1-1/resolve/main/control_v11p_sd15_inpaint.pth'\n",
        "Softedge='https://huggingface.co/lllyasviel/ControlNet-v1-1/resolve/main/control_v11p_sd15_softedge.pth'\n",
        "Lineart_Anime='https://huggingface.co/lllyasviel/ControlNet-v1-1/resolve/main/control_v11p_sd15s2_lineart_anime.pth'\n",
        "Tile='https://huggingface.co/lllyasviel/ControlNet-v1-1/resolve/main/control_v11f1e_sd15_tile.pth'\n",
        "\n",
        "\n",
        "if v1_Model == \"All (21GB)\":\n",
        "    for lnk in mdllnk:\n",
        "        download(lnk, mdldir)\n",
        "\n",
        "elif v1_Model == \"T2iadapter_Models\":\n",
        "    mdllnk = list(filter(lambda x: 't2i' in x, mdllnk))\n",
        "    for lnk in mdllnk:\n",
        "        download(lnk, mdldir)\n",
        "\n",
        "elif v1_Model == \"None\":\n",
        "    pass\n",
        "    print('Nothing to download.')\n",
        "\n",
        "else:\n",
        "    download(globals()[v1_Model], mdldir)\n",
        "    print('Completed downloading ControlNet successfully!')"
      ]
    },
    {
      "cell_type": "code",
      "execution_count": null,
      "metadata": {
        "id": "HNgN_O_JSsnz"
      },
      "outputs": [],
      "source": [
        "# ========================================================================================================================================================================================================================"
      ]
    },
    {
      "cell_type": "code",
      "execution_count": null,
      "metadata": {
        "colab": {
          "background_save": true
        },
        "id": "FqG37YyISseP"
      },
      "outputs": [],
      "source": [
        "# Start Stable Diffusion\n",
        "\n",
        "from IPython.utils import capture\n",
        "import time\n",
        "import sys\n",
        "import fileinput\n",
        "import re\n",
        "\n",
        "\n",
        "with capture.capture_output() as cap:\n",
        "    %cd /content/gdrive/MyDrive/sd/stable-diffusion-webui/modules/\n",
        "    !wget -q -O extras.py https://raw.githubusercontent.com/AUTOMATIC1111/stable-diffusion-webui/master/modules/extras.py\n",
        "    !wget -q -O sd_models.py https://raw.githubusercontent.com/AUTOMATIC1111/stable-diffusion-webui/master/modules/sd_models.py\n",
        "    !wget -q -O /usr/local/lib/python3.10/dist-packages/gradio/blocks.py https://raw.githubusercontent.com/TheLastBen/fast-stable-diffusion/main/AUTOMATIC1111_files/blocks.py\n",
        "    %cd /content/gdrive/MyDrive/sd/stable-diffusion-webui/\n",
        "\n",
        "    !sed -i 's@shared.opts.data\\[\"sd_model_checkpoint\"] = checkpoint_info.title@shared.opts.data\\[\"sd_model_checkpoint\"] = checkpoint_info.title;model.half()@' /content/gdrive/MyDrive/sd/stable-diffusion-webui/modules/sd_models.py\n",
        "    !sed -i \"s@map_location='cpu'@map_location='cuda'@\" /content/gdrive/MyDrive/sd/stable-diffusion-webui/modules/extras.py\n",
        "\n",
        "    !sed -i 's@possible_sd_paths =.*@possible_sd_paths = [\\\"/content/gdrive/MyDrive/sd/stablediffusion\\\"]@' /content/gdrive/MyDrive/sd/stable-diffusion-webui/modules/paths.py\n",
        "    !sed -i 's@\\.\\.\\/@src/@g' /content/gdrive/MyDrive/sd/stable-diffusion-webui/modules/paths.py\n",
        "    !sed -i 's@src/generative-models@generative-models@g' /content/gdrive/MyDrive/sd/stable-diffusion-webui/modules/paths.py\n",
        "\n",
        "    !sed -i 's@print(\\\"No module.*@@' /content/gdrive/MyDrive/sd/stablediffusion/ldm/modules/diffusionmodules/model.py\n",
        "    !sed -i 's@\\[\"sd_model_checkpoint\"\\]@\\[\"sd_model_checkpoint\", \"sd_vae\", \"CLIP_stop_at_last_layers\", \"inpainting_mask_weight\", \"initial_noise_multiplier\"\\]@g' /content/gdrive/MyDrive/sd/stable-diffusion-webui/modules/shared.py\n",
        "\n",
        "\n",
        "ckptdir = ''\n",
        "\n",
        "try:\n",
        "    model\n",
        "    if os.path.isfile(model):\n",
        "        !python /content/gdrive/MyDrive/sd/stable-diffusion-webui/webui.py --share --api --disable-safe-unpickle --enable-insecure-extension-access --no-download-sd-model --no-half-vae  --ckpt \"$model\" --opt-sdp-attention --disable-console-progressbars --skip-version-check $ckptdir\n",
        "    else:\n",
        "        !python /content/gdrive/MyDrive/sd/stable-diffusion-webui/webui.py --share --api --disable-safe-unpickle --enable-insecure-extension-access --no-download-sd-model --no-half-vae  --ckpt-dir \"$model\" --opt-sdp-attention --disable-console-progressbars --skip-version-check\n",
        "except:\n",
        "    !python /content/gdrive/MyDrive/sd/stable-diffusion-webui/webui.py --share --api --disable-safe-unpickle --enable-insecure-extension-access --no-download-sd-model --no-half-vae --opt-sdp-attention --disable-console-progressbars --skip-version-check $ckptdir"
      ]
    }
  ],
  "metadata": {
    "accelerator": "GPU",
    "colab": {
      "gpuType": "T4",
      "provenance": []
    },
    "kernelspec": {
      "display_name": "Python 3",
      "name": "python3"
    },
    "language_info": {
      "name": "python"
    }
  },
  "nbformat": 4,
  "nbformat_minor": 0
}